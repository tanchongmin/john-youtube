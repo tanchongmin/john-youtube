{
 "cells": [
  {
   "cell_type": "markdown",
   "id": "eecd920b-ea8c-4890-ad76-227d7fd52964",
   "metadata": {},
   "source": [
    "# Agent Skills\n",
    "- Created: 27 Oct 2025\n",
    "- Showcases how to load and use Agent Skills on demand"
   ]
  },
  {
   "cell_type": "code",
   "execution_count": 1,
   "id": "2ba9d88e-7e41-43b1-9fd8-f8ab1f62d3f8",
   "metadata": {
    "editable": true,
    "slideshow": {
     "slide_type": ""
    },
    "tags": []
   },
   "outputs": [],
   "source": [
    "import os\n",
    "from strictjson import parse_yaml"
   ]
  },
  {
   "cell_type": "code",
   "execution_count": 2,
   "id": "e5289ed5-3c23-4bb9-9d1c-9f02aec6d13a",
   "metadata": {
    "editable": true,
    "scrolled": true,
    "slideshow": {
     "slide_type": ""
    },
    "tags": []
   },
   "outputs": [
    {
     "data": {
      "text/plain": [
       "True"
      ]
     },
     "execution_count": 2,
     "metadata": {},
     "output_type": "execute_result"
    }
   ],
   "source": [
    "from dotenv import load_dotenv\n",
    "# put your secret keys in your .env\n",
    "# For instance, if you are using OpenAI, your .env should contain\n",
    "# export OPENAI_API_KEY = \"sk-.......\"\n",
    "load_dotenv()"
   ]
  },
  {
   "cell_type": "markdown",
   "id": "c4637b1e-d852-4d69-8e34-8a697800570d",
   "metadata": {},
   "source": [
    "# Define LLMs\n",
    "- LLMs take in a `system_prompt` and a `user_prompt` and outputs a `str`"
   ]
  },
  {
   "cell_type": "code",
   "execution_count": 37,
   "id": "f62fb975-5126-42a6-895b-39355c4a453f",
   "metadata": {},
   "outputs": [],
   "source": [
    "def llm(system_prompt: str, user_prompt: str, model: str = \"gpt-5\", effort: str = \"minimal\") -> str:\n",
    "    ''' Here, we use OpenAI for illustration, you can change it to your own LLM '''\n",
    "    # ensure your LLM imports are all within this function\n",
    "    from openai import OpenAI\n",
    "\n",
    "    client = OpenAI()\n",
    "    \n",
    "    # define your own LLM here\n",
    "    response = client.responses.create(\n",
    "    model=\"gpt-5\",\n",
    "    reasoning={\"effort\": effort},\n",
    "    instructions=system_prompt,\n",
    "    input=user_prompt,\n",
    "    )\n",
    "\n",
    "    return response.output_text"
   ]
  },
  {
   "cell_type": "code",
   "execution_count": 38,
   "id": "db7631a4-3245-4c55-ba52-4eed3cd1f56f",
   "metadata": {},
   "outputs": [
    {
     "data": {
      "text/plain": [
       "'- Liam\\n- Noah\\n- Ethan\\n- Mateo\\n- Alexander'"
      ]
     },
     "execution_count": 38,
     "metadata": {},
     "output_type": "execute_result"
    }
   ],
   "source": [
    "llm(\"Generate 5 names\", \"boys\")"
   ]
  },
  {
   "cell_type": "markdown",
   "id": "6678ef84-e49f-4afa-a48c-49962fa85a03",
   "metadata": {},
   "source": [
    "# Basic Syntax\n",
    "- `system_prompt`: Instructions for the LLM\n",
    "- `user_prompt`: Content to perform instructions on\n",
    "- `output_format`: Concise description-type infused dictionary to specify format LLM should output in. If type is given, should specify it as a standalone string, or after a comma (e.g. `\"int\"` or `\"an age, int\"` or `\"type: int\"` or `\"an age, type: int\"`)\n",
    "- `llm`: Your llm that takes in `system_prompt` and `user_prompt` and outputs a `str`"
   ]
  },
  {
   "cell_type": "code",
   "execution_count": 5,
   "id": "2d7fac95-2917-46f6-9d97-def9e594e8b2",
   "metadata": {},
   "outputs": [
    {
     "data": {
      "text/plain": [
       "{'Names': ['Zephyr', 'Aurore', 'Nivalis', 'Solara', 'Brontes'],\n",
       " 'Meanings': {'Zephyr': 'Gentle west wind; calm, refreshing breeze',\n",
       "  'Aurore': 'Dawn; the first light of morning',\n",
       "  'Nivalis': 'Of the snow; wintry or snow-covered',\n",
       "  'Solara': 'Of the sun; warm, bright, sunny',\n",
       "  'Brontes': 'Thunder; powerful storm sound'},\n",
       " 'Chinese Meanings': {'Zephyr': '西风 (xī fēng) — 温和的西风',\n",
       "  'Aurore': '黎明 (lí míng) — 清晨的第一道光',\n",
       "  'Nivalis': '雪之 (xuě zhī) — 与雪相关，冰雪覆盖',\n",
       "  'Solara': '太阳 (tài yáng) — 温暖明亮，阳光充足',\n",
       "  'Brontes': '雷声 (léi shēng) — 强劲的风暴之声'},\n",
       " 'Lucky Name or Number': [7, 'Zephyr', 3, 'Solara', 9],\n",
       " 'Code': 'import random\\nprefixes = [\"Ze\", \"Au\", \"Ni\", \"So\", \"Bron\", \"Ael\", \"Cael\", \"Va\", \"Lu\", \"Or\"]\\nmiddles = [\"ph\", \"ro\", \"vi\", \"la\", \"en\", \"ri\", \"na\", \"lo\"]\\nsuffixes = [\"yr\", \"re\", \"is\", \"a\", \"es\", \"on\"]\\ndef generate_name():\\n    return random.choice(prefixes) + random.choice(middles) + random.choice(suffixes)\\nrandom.seed(42)\\nnames = []\\nwhile len(names) < 5:\\n    n = generate_name()\\n    if n not in names:\\n        names.append(n)\\nprint(names)\\n',\n",
       " 'Sentiment': 'Happy',\n",
       " 'Sentiment on a Scale of 1 (Bored) to 5 (Excited)': 4}"
      ]
     },
     "execution_count": 5,
     "metadata": {},
     "output_type": "execute_result"
    }
   ],
   "source": [
    "# Sync\n",
    "parse_yaml(system_prompt = \"Give me 5 names on a topic, as well as other information\", \n",
    "           user_prompt = \"weather\",\n",
    "           output_format = {\"Names\": \"Great sounding names, List[str]\",\n",
    "                            \"Meanings\": \"Name and meaning, dict\", \n",
    "                            \"Chinese Meanings\": \"Name and meaning in chinese, dict\",\n",
    "                            \"Lucky Name or Number\": \"List[Union[int, str]]\",\n",
    "                            \"Code\": \"Python code to generate 5 names\",\n",
    "                            \"Sentiment\": \"Enum['Happy', 'Sad', 'Other']\",\n",
    "                            \"Sentiment on a Scale of 1 (Bored) to 5 (Excited)\": \"Enum[1, 2, 3, 4, 5]\"},\n",
    "           llm = llm)"
   ]
  },
  {
   "cell_type": "markdown",
   "id": "4284d0b2-ec51-4aab-8728-b76acfaa806e",
   "metadata": {},
   "source": [
    "# Create our Skills"
   ]
  },
  {
   "cell_type": "code",
   "execution_count": 53,
   "id": "ae21563f-d974-48ff-bc30-f4aaede0cb13",
   "metadata": {},
   "outputs": [],
   "source": [
    "import PyPDF2\n",
    "from pathlib import Path\n",
    "from typing import Callable, Dict, Any, List\n",
    "\n",
    "pdf_reader_skill = '''### How to Use the PDF Reader Skill\n",
    "This skill provides several functions to open, read, and analyze PDF files.\n",
    "\n",
    "**Available Functions:**\n",
    "\n",
    "1. **read_pdf(file_path: str) -> str**\n",
    "   - Reads and returns all text content from the given PDF file.\n",
    "   - Example:\n",
    "     ```python\n",
    "     text = read_pdf(\"example.pdf\")\n",
    "     print(text)\n",
    "     ```\n",
    "\n",
    "2. **read_pdf_page(file_path: str, page_number: int) -> str**\n",
    "   - Extracts and returns text from a specific page (0-indexed).\n",
    "   - If user keys in page 5, call page 4 instead\n",
    "   - Example:\n",
    "     ```python\n",
    "     page_text = read_pdf_page(\"example.pdf\", 0)\n",
    "     print(page_text)\n",
    "     ```\n",
    "\n",
    "3. **pdf_info(file_path: str) -> dict**\n",
    "   - Returns metadata and page count for the PDF (title, author, subject, etc.).\n",
    "   - Example:\n",
    "     ```python\n",
    "     info = pdf_info(\"example.pdf\")\n",
    "     print(info)\n",
    "     ```\n",
    "\n",
    "**Notes:**\n",
    "- Make sure the file path points to a valid `.pdf` file.\n",
    "- PyPDF2 must be installed: `pip install PyPDF2`\n",
    "- All functions handle file-not-found and out-of-range errors gracefully.\n",
    "'''\n",
    "\n",
    "# --- Implement Skill Functions ---\n",
    "def read_pdf(file_path: str) -> str:\n",
    "    path = Path(file_path)\n",
    "    if not path.exists():\n",
    "        raise FileNotFoundError(f\"File not found: {file_path}\")\n",
    "\n",
    "    text = \"\"\n",
    "    with open(path, \"rb\") as f:\n",
    "        reader = PyPDF2.PdfReader(f)\n",
    "        for page in reader.pages:\n",
    "            text += page.extract_text() or \"\"\n",
    "    return text.strip()\n",
    "\n",
    "def read_pdf_page(file_path: str, page_number: int) -> str:\n",
    "    path = Path(file_path)\n",
    "    if not path.exists():\n",
    "        raise FileNotFoundError(f\"File not found: {file_path}\")\n",
    "\n",
    "    with open(path, \"rb\") as f:\n",
    "        reader = PyPDF2.PdfReader(f)\n",
    "        if page_number < 0 or page_number >= len(reader.pages):\n",
    "            raise IndexError(f\"Page {page_number} is out of range.\")\n",
    "        return reader.pages[page_number].extract_text() or \"\"\n",
    "\n",
    "def pdf_info(file_path: str) -> dict:\n",
    "    path = Path(file_path)\n",
    "    if not path.exists():\n",
    "        raise FileNotFoundError(f\"File not found: {file_path}\")\n",
    "\n",
    "    with open(path, \"rb\") as f:\n",
    "        reader = PyPDF2.PdfReader(f)\n",
    "        info = reader.metadata\n",
    "        return {\n",
    "            \"pages\": len(reader.pages),\n",
    "            \"title\": getattr(info, \"title\", None),\n",
    "            \"author\": getattr(info, \"author\", None),\n",
    "            \"subject\": getattr(info, \"subject\", None),\n",
    "        }"
   ]
  },
  {
   "cell_type": "code",
   "execution_count": 54,
   "id": "354cb5da-28c7-4970-b67b-7af49da29a2d",
   "metadata": {
    "scrolled": true
   },
   "outputs": [
    {
     "data": {
      "text/plain": [
       "'Traditional Agent + Tools (3/4)\\nAgentTool 1A: pdf_reader_text(pdf_name: str)Description: Reads a pdf with pdf_name via text fieldsTool 1B: pdf_reader_ocr(pdf_name: str)Description: Reads a pdf with pdf_name via ocrTool 2A: generate_poster(description: str)Description: Generates an image in style of a poster\\nTool 1C: pdf_reader_vlm(pdf_name: str)Description: Reads a pdf with pdf_name via processing each page as image with a vlmTool Context: Use pdf_reader_text when …Use pdf_reader_ocr when…Use pdf_reader_vlm when … Tool 2B: generate_high_res(description: str)Description: Generates an image in high resTool 2A: generate_cartoon(description: str)Description: Generates an image in style of a cartoonTool Context: Use generate_poster when …Use generate_high_res when…Use generate_cartoon when … Tool UseTask'"
      ]
     },
     "execution_count": 54,
     "metadata": {},
     "output_type": "execute_result"
    }
   ],
   "source": [
    "read_pdf_page(\"Agent Skills.pdf\", 3)"
   ]
  },
  {
   "cell_type": "markdown",
   "id": "76776c2a-f24a-4267-b97e-291097b448f0",
   "metadata": {},
   "source": [
    "# Create some skills to execute code"
   ]
  },
  {
   "cell_type": "code",
   "execution_count": 55,
   "id": "fa458d8b-856b-4d3c-8879-e23cfa2c5f02",
   "metadata": {},
   "outputs": [],
   "source": [
    "def execute_function(func_name: str, params: dict):\n",
    "    \"\"\"\n",
    "    Dynamically executes a function by name with given parameters.\n",
    "\n",
    "    Args:\n",
    "        func_name (str): The name of the function to execute.\n",
    "        params (dict): A dictionary of parameters to pass to the function.\n",
    "\n",
    "    Returns:\n",
    "        The result of the function call, or an error message if the function is not found.\n",
    "    \"\"\"\n",
    "    try:\n",
    "        if func_name in globals():\n",
    "            func = globals()[func_name]\n",
    "            return func(**params)\n",
    "        else:\n",
    "            return f\"Error: Function '{func_name}' not found.\"\n",
    "    except Exception as e:\n",
    "        return f\"Error executing function '{func_name}': {e}\"\n"
   ]
  },
  {
   "cell_type": "code",
   "execution_count": 56,
   "id": "957b996b-f6db-4107-8101-0e32cedd9b42",
   "metadata": {},
   "outputs": [],
   "source": [
    "def reply_user(reply: str):\n",
    "    '''Replies the user'''\n",
    "    return reply"
   ]
  },
  {
   "cell_type": "markdown",
   "id": "46d7cf24-4a0d-431d-ae34-d216d86b090f",
   "metadata": {},
   "source": [
    "# Add in context for agent"
   ]
  },
  {
   "cell_type": "code",
   "execution_count": 57,
   "id": "1b974b20-648d-4af7-ba43-679bd8e59b51",
   "metadata": {},
   "outputs": [],
   "source": [
    "task = \"What is in page 5 of Agent Skills.pdf ?\""
   ]
  },
  {
   "cell_type": "code",
   "execution_count": 58,
   "id": "b1fd3e1e-6ace-4595-9d90-ab3747a0f7cb",
   "metadata": {},
   "outputs": [],
   "source": [
    "res = parse_yaml(system_prompt = f'''You are to execute the user task. \n",
    "Choose the relevant skills needed for your agent. \n",
    "Available Skills:\n",
    "\n",
    "pdf_reader: Information regarding reading and extracting text or metadata from PDF files. Use this to find out more about what you can do to read pdfs.\n",
    "image_generator: Information about prompting an image generator to generate image. Use this if you want to generate images.\n",
    "''', \n",
    "           user_prompt = f\"Task: {tadsk}\",\n",
    "           output_format = {\"Skill Names\": \"type: list[str]\"},\n",
    "           llm = llm)"
   ]
  },
  {
   "cell_type": "code",
   "execution_count": 59,
   "id": "16d7617b-6112-4841-acbb-52ad36bf2e96",
   "metadata": {},
   "outputs": [
    {
     "data": {
      "text/plain": [
       "{'Skill Names': ['pdf_reader']}"
      ]
     },
     "execution_count": 59,
     "metadata": {},
     "output_type": "execute_result"
    }
   ],
   "source": [
    "res"
   ]
  },
  {
   "cell_type": "code",
   "execution_count": 60,
   "id": "5c9176a2-c11e-417c-a931-12ee48b05323",
   "metadata": {},
   "outputs": [],
   "source": [
    "skill_context = \"\"\n",
    "if \"pdf_reader\" in res[\"Skill Names\"]:\n",
    "    skill_context += pdf_reader_skill"
   ]
  },
  {
   "cell_type": "code",
   "execution_count": 61,
   "id": "3a5dad57-477f-471f-aaa8-1d278e8f41dc",
   "metadata": {},
   "outputs": [
    {
     "data": {
      "text/plain": [
       "'### How to Use the PDF Reader Skill\\nThis skill provides several functions to open, read, and analyze PDF files.\\n\\n**Available Functions:**\\n\\n1. **read_pdf(file_path: str) -> str**\\n   - Reads and returns all text content from the given PDF file.\\n   - Example:\\n     ```python\\n     text = read_pdf(\"example.pdf\")\\n     print(text)\\n     ```\\n\\n2. **read_pdf_page(file_path: str, page_number: int) -> str**\\n   - Extracts and returns text from a specific page (0-indexed).\\n   - If user keys in page 5, call page 4 instead\\n   - Example:\\n     ```python\\n     page_text = read_pdf_page(\"example.pdf\", 0)\\n     print(page_text)\\n     ```\\n\\n3. **pdf_info(file_path: str) -> dict**\\n   - Returns metadata and page count for the PDF (title, author, subject, etc.).\\n   - Example:\\n     ```python\\n     info = pdf_info(\"example.pdf\")\\n     print(info)\\n     ```\\n\\n**Notes:**\\n- Make sure the file path points to a valid `.pdf` file.\\n- PyPDF2 must be installed: `pip install PyPDF2`\\n- All functions handle file-not-found and out-of-range errors gracefully.\\n'"
      ]
     },
     "execution_count": 61,
     "metadata": {},
     "output_type": "execute_result"
    }
   ],
   "source": [
    "skill_context"
   ]
  },
  {
   "cell_type": "code",
   "execution_count": 62,
   "id": "03a827ec-98ca-47e4-95c5-f26a96752d55",
   "metadata": {},
   "outputs": [
    {
     "name": "stdout",
     "output_type": "stream",
     "text": [
      "### Step 1\n",
      "\n",
      "\n",
      "Function read_pdf_page executed with parameters {'file_path': 'Agent Skills.pdf', 'page_number': 4}. Output: Traditional Agent + Tools (4/4)\n",
      "AgentTool 1ATool 1BTool 1CTool 1DTool 1ETool 1FTool 2ATool 2BTool 2CTool 2DTool 2ETool 2FTool 3ATool 3BTool 3CTool 3DTool 3ETool 3FTool 4ATool 4BTool 4CTool 4DTool 4ETool 4FContext 1Context 2Context 3Context 4It’s too much information!\n",
      "Tool UseTask\n",
      "### Step 2\n",
      "\n",
      "\n",
      "Function read_pdf_page executed with parameters {'file_path': 'Agent Skills.pdf', 'page_number': 4}. Output: Traditional Agent + Tools (4/4)\n",
      "AgentTool 1ATool 1BTool 1CTool 1DTool 1ETool 1FTool 2ATool 2BTool 2CTool 2DTool 2ETool 2FTool 3ATool 3BTool 3CTool 3DTool 3ETool 3FTool 4ATool 4BTool 4CTool 4DTool 4ETool 4FContext 1Context 2Context 3Context 4It’s too much information!\n",
      "Tool UseTask\n",
      "### Step 3\n",
      "\n",
      "\n",
      "Function reply_user executed with parameters {'reply': 'Traditional Agent + Tools (4/4)\\\\nAgentTool 1ATool 1BTool 1CTool 1DTool 1ETool 1FTool 2ATool 2BTool 2CTool 2DTool 2ETool 2FTool 3ATool 3BTool 3CTool 3DTool 3ETool 3FTool 4ATool 4BTool 4CTool 4DTool 4ETool 4FContext 1Context 2Context 3Context 4It’s too much information!\\\\nTool UseTask'}. Output: Traditional Agent + Tools (4/4)\\nAgentTool 1ATool 1BTool 1CTool 1DTool 1ETool 1FTool 2ATool 2BTool 2CTool 2DTool 2ETool 2FTool 3ATool 3BTool 3CTool 3DTool 3ETool 3FTool 4ATool 4BTool 4CTool 4DTool 4ETool 4FContext 1Context 2Context 3Context 4It’s too much information!\\nTool UseTask\n"
     ]
    }
   ],
   "source": [
    "history = []\n",
    "\n",
    "for step in range(3):\n",
    "    # Do next step\n",
    "    res = parse_yaml(system_prompt = f'''You are to execute the user task. \n",
    "Additional Context: ```{skill_context}```\n",
    "\n",
    "Here are the functions you can use in the form function_name(function_parameters) -> function_return_types: function_description:\n",
    "reply_user(reply: str) -> str: Reply to the user. Use this when you have completed the user task\n",
    "\n",
    "Use only the functions provided, including those in the additional context, and nothing more.\n",
    "If function has no parameters, then return an empty dictionary for Function Parameters if you want to use it.\n",
    "\n",
    "Output Thoughts, Function Name and Function Parameters.\n",
    "''', \n",
    "           user_prompt = f\"Past History: {history}\\nTask: {task}\",\n",
    "           output_format = {\"Thoughts\": \"What to do next, type: str\",\n",
    "                           \"Function Name\": \"Function name to call, type: str\",\n",
    "                           \"Function Parameters\": \"Parameters for the function, in the form key: value, type: dict\"},\n",
    "           llm = llm)\n",
    "\n",
    "    func_name = res[\"Function Name\"]\n",
    "    func_params = res[\"Function Parameters\"]\n",
    "    output = execute_function(func_name, func_params)\n",
    "    step_summary = f\"Function {func_name} executed with parameters {func_params}. Output: {output}\"\n",
    "    print(f\"### Step {step+1}\\n\\n\")\n",
    "    print(step_summary)\n",
    "    history.append(step_summary)\n",
    "\n",
    "    # Call another additional context update here if needed\n",
    "\n",
    "    if func_name == \"reply_user\": break"
   ]
  },
  {
   "cell_type": "code",
   "execution_count": 63,
   "id": "ad0c097f-a475-4030-b747-6699014ae317",
   "metadata": {},
   "outputs": [
    {
     "data": {
      "text/plain": [
       "[\"Function read_pdf_page executed with parameters {'file_path': 'Agent Skills.pdf', 'page_number': 4}. Output: Traditional Agent + Tools (4/4)\\nAgentTool 1ATool 1BTool 1CTool 1DTool 1ETool 1FTool 2ATool 2BTool 2CTool 2DTool 2ETool 2FTool 3ATool 3BTool 3CTool 3DTool 3ETool 3FTool 4ATool 4BTool 4CTool 4DTool 4ETool 4FContext 1Context 2Context 3Context 4It’s too much information!\\nTool UseTask\",\n",
       " \"Function read_pdf_page executed with parameters {'file_path': 'Agent Skills.pdf', 'page_number': 4}. Output: Traditional Agent + Tools (4/4)\\nAgentTool 1ATool 1BTool 1CTool 1DTool 1ETool 1FTool 2ATool 2BTool 2CTool 2DTool 2ETool 2FTool 3ATool 3BTool 3CTool 3DTool 3ETool 3FTool 4ATool 4BTool 4CTool 4DTool 4ETool 4FContext 1Context 2Context 3Context 4It’s too much information!\\nTool UseTask\",\n",
       " \"Function reply_user executed with parameters {'reply': 'Traditional Agent + Tools (4/4)\\\\\\\\nAgentTool 1ATool 1BTool 1CTool 1DTool 1ETool 1FTool 2ATool 2BTool 2CTool 2DTool 2ETool 2FTool 3ATool 3BTool 3CTool 3DTool 3ETool 3FTool 4ATool 4BTool 4CTool 4DTool 4ETool 4FContext 1Context 2Context 3Context 4It’s too much information!\\\\\\\\nTool UseTask'}. Output: Traditional Agent + Tools (4/4)\\\\nAgentTool 1ATool 1BTool 1CTool 1DTool 1ETool 1FTool 2ATool 2BTool 2CTool 2DTool 2ETool 2FTool 3ATool 3BTool 3CTool 3DTool 3ETool 3FTool 4ATool 4BTool 4CTool 4DTool 4ETool 4FContext 1Context 2Context 3Context 4It’s too much information!\\\\nTool UseTask\"]"
      ]
     },
     "execution_count": 63,
     "metadata": {},
     "output_type": "execute_result"
    }
   ],
   "source": [
    "history"
   ]
  }
 ],
 "metadata": {
  "kernelspec": {
   "display_name": "Python 3 (ipykernel)",
   "language": "python",
   "name": "python3"
  },
  "language_info": {
   "codemirror_mode": {
    "name": "ipython",
    "version": 3
   },
   "file_extension": ".py",
   "mimetype": "text/x-python",
   "name": "python",
   "nbconvert_exporter": "python",
   "pygments_lexer": "ipython3",
   "version": "3.12.2"
  }
 },
 "nbformat": 4,
 "nbformat_minor": 5
}
